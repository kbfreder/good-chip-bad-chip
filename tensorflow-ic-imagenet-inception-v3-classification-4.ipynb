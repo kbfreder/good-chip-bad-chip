{
 "cells": [
  {
   "cell_type": "markdown",
   "metadata": {},
   "source": [
    "# Image Classification: How to run inference on the endpoint you have created?"
   ]
  },
  {
   "cell_type": "markdown",
   "metadata": {},
   "source": [
    "### Download example images. "
   ]
  },
  {
   "cell_type": "code",
   "execution_count": 1,
   "metadata": {},
   "outputs": [],
   "source": [
    "import boto3\n",
    "from IPython.core.display import HTML"
   ]
  },
  {
   "cell_type": "code",
   "execution_count": 2,
   "metadata": {},
   "outputs": [],
   "source": [
    "# to get the execution role programatically\n",
    "\n",
    "# import sagemaker\n",
    "\n",
    "# sagemaker_session = sagemaker.Session()\n",
    "# role = sagemaker.get_execution_role()\n",
    "# role"
   ]
  },
  {
   "cell_type": "code",
   "execution_count": 3,
   "metadata": {},
   "outputs": [],
   "source": [
    "# Define constants / names\n",
    "s3_bucket = \"pepsico-potato-chip-dataset\"\n",
    "key_prefix = \"Test\"\n",
    "\n",
    "# I deleted this endpoint, but its configuration file was still hanging around or something\n",
    "# So when I re-created an endpoint from the same training job, using the default endpoint\n",
    "# name, I got an error\n",
    "# endpoint_name = 'jumpstart-ftc-tf-ic-imagenet-inception-v3-classificati'\n",
    "\n",
    "endpoint_name = 'jumpstart-ftc-inception-v3-chips'"
   ]
  },
  {
   "cell_type": "code",
   "execution_count": 4,
   "metadata": {},
   "outputs": [],
   "source": [
    "region = boto3.Session().region_name\n",
    "s3 = boto3.client(\"s3\")"
   ]
  },
  {
   "cell_type": "code",
   "execution_count": 5,
   "metadata": {},
   "outputs": [],
   "source": [
    "# get a list of files in our Bucket's sub-folder\n",
    "\n",
    "response = s3.list_objects_v2(\n",
    "    Bucket=s3_bucket,\n",
    "    Prefix=f\"{key_prefix}/Defective\"\n",
    ")\n",
    "\n",
    "defective_objects = [x['Key'] for x in response['Contents']]\n",
    "\n",
    "response = s3.list_objects_v2(\n",
    "    Bucket=s3_bucket,\n",
    "    Prefix=f\"{key_prefix}/Non-Defective\"\n",
    ")\n",
    "non_defective_objects = [x['Key'] for x in response['Contents']]"
   ]
  },
  {
   "cell_type": "code",
   "execution_count": 6,
   "metadata": {},
   "outputs": [
    {
     "data": {
      "text/plain": [
       "['Test/Non-Defective/IMG_20210318_231142.jpg',\n",
       " 'Test/Non-Defective/IMG_20210318_231155.jpg',\n",
       " 'Test/Non-Defective/IMG_20210318_231229.jpg',\n",
       " 'Test/Non-Defective/IMG_20210318_231234.jpg',\n",
       " 'Test/Non-Defective/IMG_20210318_231242.jpg']"
      ]
     },
     "execution_count": 6,
     "metadata": {},
     "output_type": "execute_result"
    }
   ],
   "source": [
    "# a peek at one of the file lists\n",
    "non_defective_objects[:5]"
   ]
  },
  {
   "cell_type": "markdown",
   "metadata": {},
   "source": [
    "## Examine a few images at random"
   ]
  },
  {
   "cell_type": "code",
   "execution_count": 7,
   "metadata": {},
   "outputs": [],
   "source": [
    "import random"
   ]
  },
  {
   "cell_type": "code",
   "execution_count": 8,
   "metadata": {},
   "outputs": [],
   "source": [
    "def_obj_ex = random.choice(defective_objects)\n",
    "non_obj_ex = random.choice(non_defective_objects)\n",
    "\n",
    "# get the filename from the object string\n",
    "def_ex = def_obj_ex.split('/')[-1]\n",
    "non_def_ex = non_obj_ex.split('/')[-1]\n",
    "\n",
    "s3.download_file(\n",
    "    Bucket=\"pepsico-potato-chip-dataset\",\n",
    "    Key=def_obj_ex,\n",
    "    Filename=def_ex\n",
    ")\n",
    "\n",
    "s3.download_file(\n",
    "    Bucket=\"pepsico-potato-chip-dataset\",\n",
    "    Key=non_obj_ex,\n",
    "    Filename=non_def_ex\n",
    ")"
   ]
  },
  {
   "cell_type": "code",
   "execution_count": 9,
   "metadata": {},
   "outputs": [
    {
     "data": {
      "text/html": [
       "<table><tr><td> <img src=\"IMG_20210319_005113.jpg\" alt=\"def\" style=\"height: 250px;\"/> <figcaption>def.jpg</figcaption></td><td> <img src=\"IMG_20210318_231948.jpg\" alt=\"non-def\" style=\"height: 250px;\"/> <figcaption>non_def.jpg</figcaption></td></tr></table>"
      ],
      "text/plain": [
       "<IPython.core.display.HTML object>"
      ]
     },
     "execution_count": 9,
     "metadata": {},
     "output_type": "execute_result"
    }
   ],
   "source": [
    "# Open the downloaded images and load in memory.\n",
    "images = {}\n",
    "with open(def_ex, 'rb') as file: images[def_ex] = file.read()\n",
    "with open(non_def_ex, 'rb') as file: images[non_def_ex] = file.read()\n",
    "\n",
    "# display them using HTML\n",
    "HTML(f'<table><tr><td> <img src=\"{def_ex}\" alt=\"def\" style=\"height: 250px;\"/> <figcaption>def.jpg</figcaption>'\n",
    "     f'</td><td> <img src=\"{non_def_ex}\" alt=\"non-def\" style=\"height: 250px;\"/> <figcaption>non_def.jpg</figcaption>'\n",
    "     '</td></tr></table>')"
   ]
  },
  {
   "cell_type": "markdown",
   "metadata": {},
   "source": [
    "### Query endpoint that you have created with the opened images and parse predictions\n",
    "\n",
    "Note: Backend scripts and the notebooks have been updated in Jan '22. This notebook will not work with the previously \n",
    "launched endpoints. If experiencing an error, please launch the endpoint again. "
   ]
  },
  {
   "cell_type": "code",
   "execution_count": 10,
   "metadata": {},
   "outputs": [
    {
     "data": {
      "text/html": [
       "<img src=IMG_20210319_005113.jpg alt=IMG_20210319_005113.jpg align=\"left\" style=\"width: 250px;\"/><figcaption>Predicted Label is : Defective</figcaption>"
      ],
      "text/plain": [
       "<IPython.core.display.HTML object>"
      ]
     },
     "metadata": {},
     "output_type": "display_data"
    },
    {
     "data": {
      "text/html": [
       "<img src=IMG_20210318_231948.jpg alt=IMG_20210318_231948.jpg align=\"left\" style=\"width: 250px;\"/><figcaption>Predicted Label is : Non-Defective</figcaption>"
      ],
      "text/plain": [
       "<IPython.core.display.HTML object>"
      ]
     },
     "metadata": {},
     "output_type": "display_data"
    }
   ],
   "source": [
    "import json\n",
    "\n",
    "def query_endpoint(img):\n",
    "    client = boto3.client('runtime.sagemaker')\n",
    "    response = client.invoke_endpoint(\n",
    "        EndpointName=endpoint_name,\n",
    "        ContentType='application/x-image',\n",
    "        Body=img,\n",
    "        Accept='application/json;verbose'\n",
    "    )\n",
    "    return response\n",
    "    \n",
    "\n",
    "def parse_prediction(query_response):\n",
    "    model_predictions = json.loads(query_response['Body'].read())\n",
    "    predicted_label = model_predictions['predicted_label']\n",
    "    labels = model_predictions['labels']\n",
    "    probabilities = model_predictions['probabilities']\n",
    "    return predicted_label, probabilities, labels \n",
    "\n",
    "for filename, img in images.items():\n",
    "    query_response = query_endpoint(img)\n",
    "    predicted_label, probabilities, labels = parse_prediction(query_response)\n",
    "    display(HTML(f'<img src={filename} alt={filename} align=\"left\" style=\"width: 250px;\"/>' \n",
    "                 f'<figcaption>Predicted Label is : {predicted_label}</figcaption>'))"
   ]
  },
  {
   "cell_type": "code",
   "execution_count": 11,
   "metadata": {},
   "outputs": [
    {
     "data": {
      "text/plain": [
       "[0.00013891388717546943, 0.9998610861128245]"
      ]
     },
     "execution_count": 11,
     "metadata": {},
     "output_type": "execute_result"
    }
   ],
   "source": [
    "probabilities"
   ]
  },
  {
   "cell_type": "code",
   "execution_count": 12,
   "metadata": {},
   "outputs": [],
   "source": [
    "# Clean up: remove the files\n",
    "import os\n",
    "\n",
    "os.remove(def_ex)"
   ]
  },
  {
   "cell_type": "markdown",
   "metadata": {},
   "source": [
    "# Loop through predictions"
   ]
  },
  {
   "cell_type": "code",
   "execution_count": 13,
   "metadata": {},
   "outputs": [],
   "source": [
    "def fetch_and_predict(obj):\n",
    "    file_name = obj.split('/')[-1]\n",
    "    s3.download_file(\n",
    "        Bucket=\"pepsico-potato-chip-dataset\",\n",
    "        Key=obj,\n",
    "        Filename=file_name\n",
    "    )\n",
    "    with open(file_name, 'rb') as file: img = file.read()\n",
    "    query_response = query_endpoint(img)\n",
    "    predicted_label, probabilities, labels = parse_prediction(query_response)\n",
    "    os.remove(file_name)\n",
    "    return predicted_label, probabilities"
   ]
  },
  {
   "cell_type": "code",
   "execution_count": 14,
   "metadata": {},
   "outputs": [],
   "source": [
    "def loop_thru_obj_list(obj_list):\n",
    "    pred_dict = {}\n",
    "    problem_files = {}\n",
    "    for i, obj in enumerate(obj_list):\n",
    "        try:\n",
    "            file_name = obj.split('/')[-1]\n",
    "            pred, probas = fetch_and_predict(obj)\n",
    "            pred_dict[file_name] = [pred, probas]\n",
    "        except Exception as e:\n",
    "            problem_files[file_name] = e\n",
    "    \n",
    "    return pred_dict, problem_files"
   ]
  },
  {
   "cell_type": "code",
   "execution_count": 15,
   "metadata": {},
   "outputs": [],
   "source": [
    "def_preds, def_problem_files = loop_thru_obj_list(defective_objects)\n",
    "non_def_preds, nondef_problem_files = loop_thru_obj_list(non_defective_objects)"
   ]
  },
  {
   "cell_type": "code",
   "execution_count": 16,
   "metadata": {},
   "outputs": [
    {
     "data": {
      "text/plain": [
       "(92, 100, 1, 1)"
      ]
     },
     "execution_count": 16,
     "metadata": {},
     "output_type": "execute_result"
    }
   ],
   "source": [
    "len(def_preds), len(non_def_preds), len(def_problem_files), len(nondef_problem_files)"
   ]
  },
  {
   "cell_type": "code",
   "execution_count": 17,
   "metadata": {},
   "outputs": [
    {
     "data": {
      "text/plain": [
       "[['Non-Defective', [0.23878851089295614, 0.761211489107044]],\n",
       " ['Defective', [0.7910151357410026, 0.2089848642589975]],\n",
       " ['Non-Defective', [0.05198489549567822, 0.9480151045043219]],\n",
       " ['Defective', [0.931124458536519, 0.06887554146348095]],\n",
       " ['Non-Defective', [0.098764932790887, 0.901235067209113]]]"
      ]
     },
     "execution_count": 17,
     "metadata": {},
     "output_type": "execute_result"
    }
   ],
   "source": [
    "# peek at a few of the predictions\n",
    "list(def_preds.values())[:5]"
   ]
  },
  {
   "cell_type": "code",
   "execution_count": 18,
   "metadata": {},
   "outputs": [
    {
     "data": {
      "text/plain": [
       "0.8645833333333334"
      ]
     },
     "execution_count": 18,
     "metadata": {},
     "output_type": "execute_result"
    }
   ],
   "source": [
    "# evaluate\n",
    "d_correct = len(list(filter(lambda x: x[0] == 'Defective', list(def_preds.values()))))\n",
    "d_total = len(def_preds)\n",
    "\n",
    "nd_correct = len(list(filter(lambda x: x[0] == 'Non-Defective', list(non_def_preds.values()))))\n",
    "nd_total = len(non_def_preds)\n",
    "\n",
    "# overall \n",
    "accuracy = (d_correct + nd_correct) / (d_total + nd_total)\n",
    "accuracy"
   ]
  },
  {
   "cell_type": "code",
   "execution_count": 19,
   "metadata": {},
   "outputs": [
    {
     "name": "stdout",
     "output_type": "stream",
     "text": [
      "0.717391304347826\n",
      "1.0\n"
     ]
    }
   ],
   "source": [
    "# Categorical accuracy\n",
    "d_acc = d_correct / d_total\n",
    "nd_acc = nd_correct / nd_total\n",
    "print(d_acc)\n",
    "print(nd_acc)"
   ]
  },
  {
   "cell_type": "code",
   "execution_count": 20,
   "metadata": {},
   "outputs": [],
   "source": [
    "import matplotlib.pyplot as plt"
   ]
  },
  {
   "cell_type": "code",
   "execution_count": 21,
   "metadata": {},
   "outputs": [
    {
     "data": {
      "image/png": "[encoded data removed]",
      "text/plain": [
       "<Figure size 600x400 with 1 Axes>"
      ]
     },
     "metadata": {},
     "output_type": "display_data"
    }
   ],
   "source": [
    "plt.figure(figsize=(6,4))\n",
    "plt.bar([0, 1], [d_acc, nd_acc])\n",
    "plt.xticks([0,1], labels=[\"Defective\", \"Non-Defective\"])\n",
    "plt.ylabel(\"Categorical Accuracy\")\n",
    "plt.show()"
   ]
  },
  {
   "cell_type": "code",
   "execution_count": null,
   "metadata": {},
   "outputs": [],
   "source": []
  }
 ],
 "metadata": {
  "instance_type": "ml.t3.medium",
  "kernelspec": {
   "display_name": "Python 3 (Data Science)",
   "language": "python",
   "name": "python3__SAGEMAKER_INTERNAL__arn:aws:sagemaker:us-west-2:236514542706:image/datascience-1.0"
  },
  "language_info": {
   "codemirror_mode": {
    "name": "ipython",
    "version": 3
   },
   "file_extension": ".py",
   "mimetype": "text/x-python",
   "name": "python",
   "nbconvert_exporter": "python",
   "pygments_lexer": "ipython3",
   "version": "3.7.10"
  },
  "pycharm": {
   "stem_cell": {
    "cell_type": "raw",
    "metadata": {
     "collapsed": false
    },
    "source": []
   }
  }
 },
 "nbformat": 4,
 "nbformat_minor": 4
}
